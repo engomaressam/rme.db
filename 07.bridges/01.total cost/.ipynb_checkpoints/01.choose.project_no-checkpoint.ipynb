{
 "cells": [
  {
   "cell_type": "code",
   "execution_count": 21,
   "id": "ab3925ea",
   "metadata": {},
   "outputs": [],
   "source": [
    "import psycopg2\n",
    "import pandas as pd"
   ]
  },
  {
   "cell_type": "code",
   "execution_count": 22,
   "id": "f5f5e844",
   "metadata": {},
   "outputs": [],
   "source": [
    "connection = psycopg2.connect(\n",
    "    host=\"localhost\",\n",
    "    dbname=\"rme\",\n",
    "    user=\"postgres\",\n",
    "    password=\"omar_321\"\n",
    ")\n",
    "cursor= connection.cursor()"
   ]
  },
  {
   "cell_type": "code",
   "execution_count": 23,
   "id": "8f7954c0",
   "metadata": {},
   "outputs": [],
   "source": [
    "cursor.execute(\"\"\"\n",
    "    SELECT project_no, SUM(amount) AS total_cost\n",
    "    FROM cost_dist\n",
    "    WHERE project_no IN ('122', '130', '143', '152', '157', '167', '168', '169')\n",
    "    GROUP BY project_no;\n",
    "\"\"\")\n",
    "records = cursor.fetchall()\n",
    "\n",
    "df = pd.DataFrame(records, columns=[\"project_no\", \"total_cost\"])"
   ]
  },
  {
   "cell_type": "code",
   "execution_count": 24,
   "id": "d7b9456d",
   "metadata": {},
   "outputs": [
    {
     "name": "stdout",
     "output_type": "stream",
     "text": [
      "  project_no   total_cost\n",
      "0        122  666,916,414\n",
      "1        130  117,405,340\n",
      "2        143  185,758,338\n",
      "3        152  383,959,216\n",
      "4        157  150,652,193\n",
      "5        167  139,646,091\n",
      "6        168  102,052,248\n",
      "7        169   33,926,061\n"
     ]
    }
   ],
   "source": [
    "df = df.assign(total_cost=df.total_cost.astype(int).apply('{:,}'.format))\n",
    "print(df)"
   ]
  },
  {
   "cell_type": "code",
   "execution_count": 25,
   "id": "554c53f4",
   "metadata": {},
   "outputs": [],
   "source": [
    "#if decimal is needed\n",
    "#df['total_cost'] = pd.to_numeric(df['total_cost'].fillna(0), errors='coerce')    \n",
    "#df['total_cost'] = df['total_cost'].map('{:,.2f}'.format)\n",
    "#print(df)"
   ]
  },
  {
   "cell_type": "code",
   "execution_count": 26,
   "id": "88c91800",
   "metadata": {},
   "outputs": [],
   "source": [
    "cursor.close()\n",
    "connection.close()"
   ]
  }
 ],
 "metadata": {
  "kernelspec": {
   "display_name": "Python 3 (ipykernel)",
   "language": "python",
   "name": "python3"
  },
  "language_info": {
   "codemirror_mode": {
    "name": "ipython",
    "version": 3
   },
   "file_extension": ".py",
   "mimetype": "text/x-python",
   "name": "python",
   "nbconvert_exporter": "python",
   "pygments_lexer": "ipython3",
   "version": "3.11.0"
  }
 },
 "nbformat": 4,
 "nbformat_minor": 5
}
